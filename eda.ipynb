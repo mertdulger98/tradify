{
 "cells": [
  {
   "cell_type": "code",
   "execution_count": 30,
   "id": "00249ecc",
   "metadata": {},
   "outputs": [],
   "source": [
    "import pandas as pd\n",
    "import numpy as np\n",
    "import yfinance as yf\n",
    "import matplotlib.pyplot as plt"
   ]
  },
  {
   "cell_type": "code",
   "execution_count": 31,
   "id": "e132305c",
   "metadata": {},
   "outputs": [],
   "source": [
    "def getData(stockName,period,interval):\n",
    "    return yf.download(tickers=stockName, period=period, interval=interval)"
   ]
  },
  {
   "cell_type": "code",
   "execution_count": 44,
   "id": "b6322d65",
   "metadata": {},
   "outputs": [
    {
     "name": "stdout",
     "output_type": "stream",
     "text": [
      "[*********************100%***********************]  1 of 1 completed\n"
     ]
    }
   ],
   "source": [
    "df=getData('ETH-USD','1y','1h')['Close'].to_frame()"
   ]
  },
  {
   "cell_type": "code",
   "execution_count": 45,
   "id": "d77629f7",
   "metadata": {},
   "outputs": [
    {
     "data": {
      "text/html": [
       "<div>\n",
       "<style scoped>\n",
       "    .dataframe tbody tr th:only-of-type {\n",
       "        vertical-align: middle;\n",
       "    }\n",
       "\n",
       "    .dataframe tbody tr th {\n",
       "        vertical-align: top;\n",
       "    }\n",
       "\n",
       "    .dataframe thead th {\n",
       "        text-align: right;\n",
       "    }\n",
       "</style>\n",
       "<table border=\"1\" class=\"dataframe\">\n",
       "  <thead>\n",
       "    <tr style=\"text-align: right;\">\n",
       "      <th></th>\n",
       "      <th>Close</th>\n",
       "    </tr>\n",
       "    <tr>\n",
       "      <th>Datetime</th>\n",
       "      <th></th>\n",
       "    </tr>\n",
       "  </thead>\n",
       "  <tbody>\n",
       "    <tr>\n",
       "      <th>2022-06-07 13:00:00+00:00</th>\n",
       "      <td>1764.172485</td>\n",
       "    </tr>\n",
       "    <tr>\n",
       "      <th>2022-06-07 14:00:00+00:00</th>\n",
       "      <td>1784.645264</td>\n",
       "    </tr>\n",
       "    <tr>\n",
       "      <th>2022-06-07 15:00:00+00:00</th>\n",
       "      <td>1780.269775</td>\n",
       "    </tr>\n",
       "    <tr>\n",
       "      <th>2022-06-07 16:00:00+00:00</th>\n",
       "      <td>1781.969604</td>\n",
       "    </tr>\n",
       "    <tr>\n",
       "      <th>2022-06-07 17:00:00+00:00</th>\n",
       "      <td>1781.010132</td>\n",
       "    </tr>\n",
       "    <tr>\n",
       "      <th>...</th>\n",
       "      <td>...</td>\n",
       "    </tr>\n",
       "    <tr>\n",
       "      <th>2023-06-07 09:00:00+00:00</th>\n",
       "      <td>1853.893066</td>\n",
       "    </tr>\n",
       "    <tr>\n",
       "      <th>2023-06-07 10:00:00+00:00</th>\n",
       "      <td>1858.576172</td>\n",
       "    </tr>\n",
       "    <tr>\n",
       "      <th>2023-06-07 11:00:00+00:00</th>\n",
       "      <td>1869.439209</td>\n",
       "    </tr>\n",
       "    <tr>\n",
       "      <th>2023-06-07 12:00:00+00:00</th>\n",
       "      <td>1864.583984</td>\n",
       "    </tr>\n",
       "    <tr>\n",
       "      <th>2023-06-07 13:00:00+00:00</th>\n",
       "      <td>1860.304565</td>\n",
       "    </tr>\n",
       "  </tbody>\n",
       "</table>\n",
       "<p>8677 rows × 1 columns</p>\n",
       "</div>"
      ],
      "text/plain": [
       "                                 Close\n",
       "Datetime                              \n",
       "2022-06-07 13:00:00+00:00  1764.172485\n",
       "2022-06-07 14:00:00+00:00  1784.645264\n",
       "2022-06-07 15:00:00+00:00  1780.269775\n",
       "2022-06-07 16:00:00+00:00  1781.969604\n",
       "2022-06-07 17:00:00+00:00  1781.010132\n",
       "...                                ...\n",
       "2023-06-07 09:00:00+00:00  1853.893066\n",
       "2023-06-07 10:00:00+00:00  1858.576172\n",
       "2023-06-07 11:00:00+00:00  1869.439209\n",
       "2023-06-07 12:00:00+00:00  1864.583984\n",
       "2023-06-07 13:00:00+00:00  1860.304565\n",
       "\n",
       "[8677 rows x 1 columns]"
      ]
     },
     "execution_count": 45,
     "metadata": {},
     "output_type": "execute_result"
    }
   ],
   "source": [
    "df"
   ]
  },
  {
   "cell_type": "code",
   "execution_count": 46,
   "id": "e7410cd5",
   "metadata": {},
   "outputs": [],
   "source": [
    "from statsmodels.graphics.tsaplots import plot_acf,plot_pacf\n",
    "from statsmodels.nonparametric.smoothers_lowess import lowess\n",
    "from statsmodels.tsa.stattools import acf,pacf\n",
    "from statsmodels.tsa.seasonal import STL"
   ]
  },
  {
   "cell_type": "code",
   "execution_count": 47,
   "id": "5969722e",
   "metadata": {},
   "outputs": [],
   "source": [
    "## ADD SEASONAL DECOMPOSE HERE"
   ]
  },
  {
   "cell_type": "code",
   "execution_count": 48,
   "id": "b6f40259",
   "metadata": {},
   "outputs": [
    {
     "data": {
      "text/plain": [
       "<AxesSubplot:xlabel='Lag', ylabel='Autocorrelation'>"
      ]
     },
     "execution_count": 48,
     "metadata": {},
     "output_type": "execute_result"
    },
    {
     "data": {
      "image/png": "[encoded data removed]",
      "text/plain": [
       "<Figure size 432x288 with 1 Axes>"
      ]
     },
     "metadata": {
      "needs_background": "light"
     },
     "output_type": "display_data"
    }
   ],
   "source": [
    "pd.plotting.autocorrelation_plot(df)"
   ]
  },
  {
   "cell_type": "code",
   "execution_count": null,
   "id": "dc7d7218",
   "metadata": {},
   "outputs": [],
   "source": []
  }
 ],
 "metadata": {
  "kernelspec": {
   "display_name": "Python 3 (ipykernel)",
   "language": "python",
   "name": "python3"
  },
  "language_info": {
   "codemirror_mode": {
    "name": "ipython",
    "version": 3
   },
   "file_extension": ".py",
   "mimetype": "text/x-python",
   "name": "python",
   "nbconvert_exporter": "python",
   "pygments_lexer": "ipython3",
   "version": "3.9.12"
  }
 },
 "nbformat": 4,
 "nbformat_minor": 5
}
