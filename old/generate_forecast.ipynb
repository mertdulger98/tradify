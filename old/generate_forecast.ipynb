{
 "cells": [
  {
   "cell_type": "code",
   "execution_count": 1,
   "id": "d42680d8",
   "metadata": {},
   "outputs": [],
   "source": [
    "import pandas as pd\n",
    "import numpy as np\n",
    "import yfinance as yf"
   ]
  },
  {
   "cell_type": "code",
   "execution_count": 2,
   "id": "38023ac0",
   "metadata": {},
   "outputs": [],
   "source": [
    "def getData(stockName,period,interval):\n",
    "    return yf.download(tickers=stockName, period=period, interval=interval)"
   ]
  },
  {
   "cell_type": "code",
   "execution_count": 3,
   "id": "f1d0575a",
   "metadata": {},
   "outputs": [
    {
     "name": "stdout",
     "output_type": "stream",
     "text": [
      "[*********************100%***********************]  1 of 1 completed\n"
     ]
    }
   ],
   "source": [
    "df=getData('TUR','120m','15m')['Close'].to_frame()"
   ]
  },
  {
   "cell_type": "code",
   "execution_count": 4,
   "id": "f3a8b264",
   "metadata": {},
   "outputs": [
    {
     "data": {
      "text/html": [
       "<div>\n",
       "<style scoped>\n",
       "    .dataframe tbody tr th:only-of-type {\n",
       "        vertical-align: middle;\n",
       "    }\n",
       "\n",
       "    .dataframe tbody tr th {\n",
       "        vertical-align: top;\n",
       "    }\n",
       "\n",
       "    .dataframe thead th {\n",
       "        text-align: right;\n",
       "    }\n",
       "</style>\n",
       "<table border=\"1\" class=\"dataframe\">\n",
       "  <thead>\n",
       "    <tr style=\"text-align: right;\">\n",
       "      <th></th>\n",
       "      <th>Close</th>\n",
       "    </tr>\n",
       "    <tr>\n",
       "      <th>Datetime</th>\n",
       "      <th></th>\n",
       "    </tr>\n",
       "  </thead>\n",
       "  <tbody>\n",
       "    <tr>\n",
       "      <th>2023-06-08 14:00:00</th>\n",
       "      <td>29.809999</td>\n",
       "    </tr>\n",
       "    <tr>\n",
       "      <th>2023-06-08 14:15:00</th>\n",
       "      <td>29.860001</td>\n",
       "    </tr>\n",
       "    <tr>\n",
       "      <th>2023-06-08 14:30:00</th>\n",
       "      <td>29.910000</td>\n",
       "    </tr>\n",
       "    <tr>\n",
       "      <th>2023-06-08 14:45:00</th>\n",
       "      <td>29.889999</td>\n",
       "    </tr>\n",
       "    <tr>\n",
       "      <th>2023-06-08 15:00:00</th>\n",
       "      <td>29.969999</td>\n",
       "    </tr>\n",
       "    <tr>\n",
       "      <th>2023-06-08 15:15:00</th>\n",
       "      <td>29.980000</td>\n",
       "    </tr>\n",
       "    <tr>\n",
       "      <th>2023-06-08 15:30:00</th>\n",
       "      <td>29.930000</td>\n",
       "    </tr>\n",
       "    <tr>\n",
       "      <th>2023-06-08 15:45:00</th>\n",
       "      <td>29.959999</td>\n",
       "    </tr>\n",
       "  </tbody>\n",
       "</table>\n",
       "</div>"
      ],
      "text/plain": [
       "                         Close\n",
       "Datetime                      \n",
       "2023-06-08 14:00:00  29.809999\n",
       "2023-06-08 14:15:00  29.860001\n",
       "2023-06-08 14:30:00  29.910000\n",
       "2023-06-08 14:45:00  29.889999\n",
       "2023-06-08 15:00:00  29.969999\n",
       "2023-06-08 15:15:00  29.980000\n",
       "2023-06-08 15:30:00  29.930000\n",
       "2023-06-08 15:45:00  29.959999"
      ]
     },
     "execution_count": 4,
     "metadata": {},
     "output_type": "execute_result"
    }
   ],
   "source": [
    "df"
   ]
  },
  {
   "cell_type": "code",
   "execution_count": null,
   "id": "8ad451e3",
   "metadata": {},
   "outputs": [],
   "source": []
  }
 ],
 "metadata": {
  "kernelspec": {
   "display_name": "Python 3 (ipykernel)",
   "language": "python",
   "name": "python3"
  },
  "language_info": {
   "codemirror_mode": {
    "name": "ipython",
    "version": 3
   },
   "file_extension": ".py",
   "mimetype": "text/x-python",
   "name": "python",
   "nbconvert_exporter": "python",
   "pygments_lexer": "ipython3",
   "version": "3.9.12"
  }
 },
 "nbformat": 4,
 "nbformat_minor": 5
}
