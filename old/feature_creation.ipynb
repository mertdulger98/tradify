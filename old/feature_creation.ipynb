{
 "cells": [
  {
   "cell_type": "code",
   "execution_count": 2,
   "id": "4d527949",
   "metadata": {},
   "outputs": [],
   "source": [
    "import pandas as pd\n",
    "import numpy as np\n",
    "import yfinance as yf\n",
    "import matplotlib.pyplot as plt\n",
    "import seaborn as sns\n",
    "import talib\n",
    "import warnings\n",
    "warnings.filterwarnings(\"ignore\")"
   ]
  },
  {
   "cell_type": "code",
   "execution_count": 4,
   "id": "bf90a3ef",
   "metadata": {},
   "outputs": [],
   "source": [
    "def getData(stockName,period='120d',interval='1h'):\n",
    "    return yf.download(tickers=stockName, period=period, interval=interval)"
   ]
  },
  {
   "cell_type": "code",
   "execution_count": 5,
   "id": "645e15a3",
   "metadata": {},
   "outputs": [],
   "source": [
    "def find_items(items, keyword):\n",
    "    matching_items = []\n",
    "    for item in items:\n",
    "        if keyword in item:\n",
    "            matching_items.append(item)\n",
    "    return matching_items"
   ]
  },
  {
   "cell_type": "code",
   "execution_count": 85,
   "id": "a3aca515",
   "metadata": {},
   "outputs": [
    {
     "name": "stdout",
     "output_type": "stream",
     "text": [
      "[*********************100%***********************]  1 of 1 completed\n"
     ]
    }
   ],
   "source": [
    "df = getData('XU100.IS').reset_index()"
   ]
  },
  {
   "cell_type": "code",
   "execution_count": 86,
   "id": "d7ec4705",
   "metadata": {},
   "outputs": [],
   "source": [
    "df['chg']=df['Close'].pct_change()*100\n",
    "df['cdl']=((df['Close']-df['Open'])/(df['Close']))*100"
   ]
  },
  {
   "cell_type": "code",
   "execution_count": 87,
   "id": "80184184",
   "metadata": {},
   "outputs": [
    {
     "data": {
      "text/html": [
       "<div>\n",
       "<style scoped>\n",
       "    .dataframe tbody tr th:only-of-type {\n",
       "        vertical-align: middle;\n",
       "    }\n",
       "\n",
       "    .dataframe tbody tr th {\n",
       "        vertical-align: top;\n",
       "    }\n",
       "\n",
       "    .dataframe thead th {\n",
       "        text-align: right;\n",
       "    }\n",
       "</style>\n",
       "<table border=\"1\" class=\"dataframe\">\n",
       "  <thead>\n",
       "    <tr style=\"text-align: right;\">\n",
       "      <th></th>\n",
       "      <th>Datetime</th>\n",
       "      <th>Open</th>\n",
       "      <th>High</th>\n",
       "      <th>Low</th>\n",
       "      <th>Close</th>\n",
       "      <th>Adj Close</th>\n",
       "      <th>Volume</th>\n",
       "      <th>chg</th>\n",
       "      <th>cdl</th>\n",
       "    </tr>\n",
       "  </thead>\n",
       "  <tbody>\n",
       "    <tr>\n",
       "      <th>0</th>\n",
       "      <td>2023-01-18 09:30:00+03:00</td>\n",
       "      <td>5315.029785</td>\n",
       "      <td>5385.399902</td>\n",
       "      <td>5315.029785</td>\n",
       "      <td>5374.509766</td>\n",
       "      <td>5374.509766</td>\n",
       "      <td>0</td>\n",
       "      <td>NaN</td>\n",
       "      <td>1.106705</td>\n",
       "    </tr>\n",
       "    <tr>\n",
       "      <th>1</th>\n",
       "      <td>2023-01-18 10:30:00+03:00</td>\n",
       "      <td>5374.419922</td>\n",
       "      <td>5408.120117</td>\n",
       "      <td>5364.549805</td>\n",
       "      <td>5395.509766</td>\n",
       "      <td>5395.509766</td>\n",
       "      <td>0</td>\n",
       "      <td>0.390733</td>\n",
       "      <td>0.390878</td>\n",
       "    </tr>\n",
       "    <tr>\n",
       "      <th>2</th>\n",
       "      <td>2023-01-18 11:30:00+03:00</td>\n",
       "      <td>5395.569824</td>\n",
       "      <td>5413.850098</td>\n",
       "      <td>5391.149902</td>\n",
       "      <td>5413.540039</td>\n",
       "      <td>5413.540039</td>\n",
       "      <td>0</td>\n",
       "      <td>0.334172</td>\n",
       "      <td>0.331949</td>\n",
       "    </tr>\n",
       "    <tr>\n",
       "      <th>3</th>\n",
       "      <td>2023-01-18 12:30:00+03:00</td>\n",
       "      <td>5412.660156</td>\n",
       "      <td>5424.229980</td>\n",
       "      <td>5310.729980</td>\n",
       "      <td>5336.529785</td>\n",
       "      <td>5336.529785</td>\n",
       "      <td>0</td>\n",
       "      <td>-1.422549</td>\n",
       "      <td>-1.426589</td>\n",
       "    </tr>\n",
       "    <tr>\n",
       "      <th>4</th>\n",
       "      <td>2023-01-18 13:30:00+03:00</td>\n",
       "      <td>5336.350098</td>\n",
       "      <td>5381.089844</td>\n",
       "      <td>5329.790039</td>\n",
       "      <td>5379.049805</td>\n",
       "      <td>5379.049805</td>\n",
       "      <td>0</td>\n",
       "      <td>0.796773</td>\n",
       "      <td>0.793815</td>\n",
       "    </tr>\n",
       "    <tr>\n",
       "      <th>...</th>\n",
       "      <td>...</td>\n",
       "      <td>...</td>\n",
       "      <td>...</td>\n",
       "      <td>...</td>\n",
       "      <td>...</td>\n",
       "      <td>...</td>\n",
       "      <td>...</td>\n",
       "      <td>...</td>\n",
       "      <td>...</td>\n",
       "    </tr>\n",
       "    <tr>\n",
       "      <th>1020</th>\n",
       "      <td>2023-07-18 12:30:00+03:00</td>\n",
       "      <td>6548.669922</td>\n",
       "      <td>6580.459961</td>\n",
       "      <td>6539.910156</td>\n",
       "      <td>6571.279785</td>\n",
       "      <td>6571.279785</td>\n",
       "      <td>0</td>\n",
       "      <td>0.348476</td>\n",
       "      <td>0.344071</td>\n",
       "    </tr>\n",
       "    <tr>\n",
       "      <th>1021</th>\n",
       "      <td>2023-07-18 13:30:00+03:00</td>\n",
       "      <td>6571.359863</td>\n",
       "      <td>6589.080078</td>\n",
       "      <td>6563.959961</td>\n",
       "      <td>6581.759766</td>\n",
       "      <td>6581.759766</td>\n",
       "      <td>0</td>\n",
       "      <td>0.159482</td>\n",
       "      <td>0.158011</td>\n",
       "    </tr>\n",
       "    <tr>\n",
       "      <th>1022</th>\n",
       "      <td>2023-07-18 14:30:00+03:00</td>\n",
       "      <td>6580.600098</td>\n",
       "      <td>6613.850098</td>\n",
       "      <td>6577.290039</td>\n",
       "      <td>6596.089844</td>\n",
       "      <td>6596.089844</td>\n",
       "      <td>0</td>\n",
       "      <td>0.217724</td>\n",
       "      <td>0.234832</td>\n",
       "    </tr>\n",
       "    <tr>\n",
       "      <th>1023</th>\n",
       "      <td>2023-07-18 15:30:00+03:00</td>\n",
       "      <td>6595.540039</td>\n",
       "      <td>6623.819824</td>\n",
       "      <td>6565.580078</td>\n",
       "      <td>6576.810059</td>\n",
       "      <td>6576.810059</td>\n",
       "      <td>0</td>\n",
       "      <td>-0.292291</td>\n",
       "      <td>-0.284788</td>\n",
       "    </tr>\n",
       "    <tr>\n",
       "      <th>1024</th>\n",
       "      <td>2023-07-18 16:30:00+03:00</td>\n",
       "      <td>6577.270020</td>\n",
       "      <td>6577.270020</td>\n",
       "      <td>6424.359863</td>\n",
       "      <td>6437.390137</td>\n",
       "      <td>6437.390137</td>\n",
       "      <td>0</td>\n",
       "      <td>-2.119871</td>\n",
       "      <td>-2.172928</td>\n",
       "    </tr>\n",
       "  </tbody>\n",
       "</table>\n",
       "<p>1025 rows × 9 columns</p>\n",
       "</div>"
      ],
      "text/plain": [
       "                      Datetime         Open         High          Low  \\\n",
       "0    2023-01-18 09:30:00+03:00  5315.029785  5385.399902  5315.029785   \n",
       "1    2023-01-18 10:30:00+03:00  5374.419922  5408.120117  5364.549805   \n",
       "2    2023-01-18 11:30:00+03:00  5395.569824  5413.850098  5391.149902   \n",
       "3    2023-01-18 12:30:00+03:00  5412.660156  5424.229980  5310.729980   \n",
       "4    2023-01-18 13:30:00+03:00  5336.350098  5381.089844  5329.790039   \n",
       "...                        ...          ...          ...          ...   \n",
       "1020 2023-07-18 12:30:00+03:00  6548.669922  6580.459961  6539.910156   \n",
       "1021 2023-07-18 13:30:00+03:00  6571.359863  6589.080078  6563.959961   \n",
       "1022 2023-07-18 14:30:00+03:00  6580.600098  6613.850098  6577.290039   \n",
       "1023 2023-07-18 15:30:00+03:00  6595.540039  6623.819824  6565.580078   \n",
       "1024 2023-07-18 16:30:00+03:00  6577.270020  6577.270020  6424.359863   \n",
       "\n",
       "            Close    Adj Close  Volume       chg       cdl  \n",
       "0     5374.509766  5374.509766       0       NaN  1.106705  \n",
       "1     5395.509766  5395.509766       0  0.390733  0.390878  \n",
       "2     5413.540039  5413.540039       0  0.334172  0.331949  \n",
       "3     5336.529785  5336.529785       0 -1.422549 -1.426589  \n",
       "4     5379.049805  5379.049805       0  0.796773  0.793815  \n",
       "...           ...          ...     ...       ...       ...  \n",
       "1020  6571.279785  6571.279785       0  0.348476  0.344071  \n",
       "1021  6581.759766  6581.759766       0  0.159482  0.158011  \n",
       "1022  6596.089844  6596.089844       0  0.217724  0.234832  \n",
       "1023  6576.810059  6576.810059       0 -0.292291 -0.284788  \n",
       "1024  6437.390137  6437.390137       0 -2.119871 -2.172928  \n",
       "\n",
       "[1025 rows x 9 columns]"
      ]
     },
     "execution_count": 87,
     "metadata": {},
     "output_type": "execute_result"
    }
   ],
   "source": [
    "df"
   ]
  },
  {
   "cell_type": "code",
   "execution_count": 25,
   "id": "2ac27ebe",
   "metadata": {},
   "outputs": [],
   "source": [
    "for i in list(range(3,100)):\n",
    "    df[f'SMA_{i}'] = talib.SMA(df['Close'], timeperiod=i)\n",
    "    df[f'EMA_{i}'] = talib.EMA(df['Close'], timeperiod=i)\n",
    "    df[f'KAMA_{i}'] = talib.KAMA(df['Close'], timeperiod=i)"
   ]
  },
  {
   "cell_type": "code",
   "execution_count": null,
   "id": "4789dcae",
   "metadata": {},
   "outputs": [],
   "source": [
    "for i in list(range(5,10)):\n",
    "    df[f'RSI_{i}'] = talib.RSI(df['Close'], timeperiod=i)"
   ]
  },
  {
   "cell_type": "code",
   "execution_count": 26,
   "id": "2327b1ee",
   "metadata": {},
   "outputs": [],
   "source": [
    "for i in list(range(5,10)):\n",
    "    df[f'ATR_{i}'] = talib.ATR(df['High'], df['Low'], df['Close'], timeperiod=i)"
   ]
  },
  {
   "cell_type": "code",
   "execution_count": 27,
   "id": "32042519",
   "metadata": {},
   "outputs": [],
   "source": [
    "for i in list(range(5,25)):\n",
    "    df[f'Momentum_{i}'] = talib.MOM(df['Close'], timeperiod=i)"
   ]
  },
  {
   "cell_type": "code",
   "execution_count": 88,
   "id": "4a302f13",
   "metadata": {},
   "outputs": [],
   "source": [
    "# Breakout \n",
    "for i in [round(x,2) for x in list(np.arange(0.5,2.1,0.1))]:\n",
    "    df[f'Breakout_{i}']=np.where(np.abs(df['cdl'])>i,1,0)"
   ]
  },
  {
   "cell_type": "code",
   "execution_count": null,
   "id": "89884e34",
   "metadata": {},
   "outputs": [],
   "source": [
    "# Moving STD"
   ]
  }
 ],
 "metadata": {
  "kernelspec": {
   "display_name": "Python 3 (ipykernel)",
   "language": "python",
   "name": "python3"
  },
  "language_info": {
   "codemirror_mode": {
    "name": "ipython",
    "version": 3
   },
   "file_extension": ".py",
   "mimetype": "text/x-python",
   "name": "python",
   "nbconvert_exporter": "python",
   "pygments_lexer": "ipython3",
   "version": "3.9.16"
  }
 },
 "nbformat": 4,
 "nbformat_minor": 5
}
