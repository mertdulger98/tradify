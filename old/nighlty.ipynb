{
 "cells": [
  {
   "cell_type": "code",
   "execution_count": 1,
   "id": "c786b8e0",
   "metadata": {},
   "outputs": [],
   "source": [
    "import pandas as pd\n",
    "import numpy as np\n",
    "import yfinance as yf\n",
    "import matplotlib.pyplot as plt\n",
    "import seaborn as sns\n",
    "\n",
    "import warnings\n",
    "warnings.filterwarnings(\"ignore\")"
   ]
  },
  {
   "cell_type": "code",
   "execution_count": 2,
   "id": "9f522ea0",
   "metadata": {},
   "outputs": [],
   "source": [
    "def getData(stockName,period='120d',interval='1h'):\n",
    "    return yf.download(tickers=stockName, period=period, interval=interval)"
   ]
  },
  {
   "cell_type": "code",
   "execution_count": 8,
   "id": "6ee4034f",
   "metadata": {},
   "outputs": [
    {
     "name": "stdout",
     "output_type": "stream",
     "text": [
      "[*********************100%***********************]  1 of 1 completed\n",
      "[*********************100%***********************]  1 of 1 completed\n",
      "[*********************100%***********************]  1 of 1 completed\n"
     ]
    }
   ],
   "source": [
    "tur = getData('TUR') #ny\n",
    "usdtry = getData('TRY=X')#london\n",
    "dxy = getData('DX-Y.NYB')#ny"
   ]
  },
  {
   "cell_type": "code",
   "execution_count": 10,
   "id": "767498c6",
   "metadata": {},
   "outputs": [
    {
     "data": {
      "text/plain": [
       "DatetimeIndex(['2023-05-08 09:30:00-04:00', '2023-05-08 10:30:00-04:00',\n",
       "               '2023-05-08 11:30:00-04:00', '2023-05-08 12:30:00-04:00',\n",
       "               '2023-05-08 13:30:00-04:00', '2023-05-08 14:30:00-04:00',\n",
       "               '2023-05-08 15:30:00-04:00', '2023-05-09 09:30:00-04:00',\n",
       "               '2023-05-09 10:30:00-04:00', '2023-05-09 11:30:00-04:00',\n",
       "               '2023-05-09 12:30:00-04:00', '2023-05-09 13:30:00-04:00',\n",
       "               '2023-05-09 14:30:00-04:00', '2023-05-09 15:30:00-04:00',\n",
       "               '2023-05-10 09:30:00-04:00', '2023-05-10 10:30:00-04:00',\n",
       "               '2023-05-10 11:30:00-04:00', '2023-05-10 12:30:00-04:00',\n",
       "               '2023-05-10 13:30:00-04:00', '2023-05-10 14:30:00-04:00'],\n",
       "              dtype='datetime64[ns, America/New_York]', name='Datetime', freq=None)"
      ]
     },
     "execution_count": 10,
     "metadata": {},
     "output_type": "execute_result"
    }
   ],
   "source": [
    "tur.head(20).index"
   ]
  },
  {
   "cell_type": "code",
   "execution_count": 11,
   "id": "ada8554c",
   "metadata": {},
   "outputs": [
    {
     "data": {
      "text/plain": [
       "DatetimeIndex(['2023-05-12 00:00:00+01:00', '2023-05-12 01:00:00+01:00',\n",
       "               '2023-05-12 02:00:00+01:00', '2023-05-12 03:00:00+01:00',\n",
       "               '2023-05-12 04:00:00+01:00', '2023-05-12 05:00:00+01:00',\n",
       "               '2023-05-12 06:00:00+01:00', '2023-05-12 07:00:00+01:00',\n",
       "               '2023-05-12 08:00:00+01:00', '2023-05-12 09:00:00+01:00',\n",
       "               '2023-05-12 10:00:00+01:00', '2023-05-12 11:00:00+01:00',\n",
       "               '2023-05-12 12:00:00+01:00', '2023-05-12 13:00:00+01:00',\n",
       "               '2023-05-12 14:00:00+01:00', '2023-05-12 15:00:00+01:00',\n",
       "               '2023-05-12 16:00:00+01:00', '2023-05-12 17:00:00+01:00',\n",
       "               '2023-05-12 18:00:00+01:00', '2023-05-12 19:00:00+01:00'],\n",
       "              dtype='datetime64[ns, Europe/London]', name='Datetime', freq=None)"
      ]
     },
     "execution_count": 11,
     "metadata": {},
     "output_type": "execute_result"
    }
   ],
   "source": [
    "usdtry.head(20).index"
   ]
  },
  {
   "cell_type": "code",
   "execution_count": 12,
   "id": "6a4e7310",
   "metadata": {},
   "outputs": [
    {
     "data": {
      "text/plain": [
       "DatetimeIndex(['2023-06-06 00:00:00-04:00', '2023-06-06 01:00:00-04:00',\n",
       "               '2023-06-06 02:00:00-04:00', '2023-06-06 03:00:00-04:00',\n",
       "               '2023-06-06 04:00:00-04:00'],\n",
       "              dtype='datetime64[ns, America/New_York]', name='Datetime', freq=None)"
      ]
     },
     "execution_count": 12,
     "metadata": {},
     "output_type": "execute_result"
    }
   ],
   "source": [
    "dxy.head().index"
   ]
  },
  {
   "cell_type": "code",
   "execution_count": null,
   "id": "978f9290",
   "metadata": {},
   "outputs": [],
   "source": []
  }
 ],
 "metadata": {
  "kernelspec": {
   "display_name": "Python 3 (ipykernel)",
   "language": "python",
   "name": "python3"
  },
  "language_info": {
   "codemirror_mode": {
    "name": "ipython",
    "version": 3
   },
   "file_extension": ".py",
   "mimetype": "text/x-python",
   "name": "python",
   "nbconvert_exporter": "python",
   "pygments_lexer": "ipython3",
   "version": "3.9.16"
  }
 },
 "nbformat": 4,
 "nbformat_minor": 5
}
