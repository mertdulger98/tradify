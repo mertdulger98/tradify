{
 "cells": [
  {
   "cell_type": "code",
   "execution_count": 1,
   "id": "5695f8cc",
   "metadata": {},
   "outputs": [],
   "source": [
    "import pandas as pd \n",
    "import numpy as np"
   ]
  },
  {
   "cell_type": "code",
   "execution_count": 2,
   "id": "c9954509",
   "metadata": {},
   "outputs": [],
   "source": [
    "df = pd.read_csv('datasimple.csv')"
   ]
  },
  {
   "cell_type": "code",
   "execution_count": 3,
   "id": "4f4f2a88",
   "metadata": {},
   "outputs": [],
   "source": [
    "df['time']=df['time'].apply(lambda x:x.split('+')[0])\n",
    "df['time']=pd.to_datetime(df['time'])"
   ]
  },
  {
   "cell_type": "code",
   "execution_count": 4,
   "id": "3c238bdd",
   "metadata": {},
   "outputs": [
    {
     "data": {
      "text/html": [
       "<div>\n",
       "<style scoped>\n",
       "    .dataframe tbody tr th:only-of-type {\n",
       "        vertical-align: middle;\n",
       "    }\n",
       "\n",
       "    .dataframe tbody tr th {\n",
       "        vertical-align: top;\n",
       "    }\n",
       "\n",
       "    .dataframe thead th {\n",
       "        text-align: right;\n",
       "    }\n",
       "</style>\n",
       "<table border=\"1\" class=\"dataframe\">\n",
       "  <thead>\n",
       "    <tr style=\"text-align: right;\">\n",
       "      <th></th>\n",
       "      <th>time</th>\n",
       "      <th>open</th>\n",
       "      <th>high</th>\n",
       "      <th>low</th>\n",
       "      <th>close</th>\n",
       "      <th>KAMA</th>\n",
       "      <th>Volume</th>\n",
       "      <th>Volume MA</th>\n",
       "    </tr>\n",
       "  </thead>\n",
       "  <tbody>\n",
       "    <tr>\n",
       "      <th>0</th>\n",
       "      <td>2020-11-11 02:00:00</td>\n",
       "      <td>450.34</td>\n",
       "      <td>476.25</td>\n",
       "      <td>449.28</td>\n",
       "      <td>463.09</td>\n",
       "      <td>409.605256</td>\n",
       "      <td>1.205783e+06</td>\n",
       "      <td>891616.690705</td>\n",
       "    </tr>\n",
       "    <tr>\n",
       "      <th>1</th>\n",
       "      <td>2020-11-12 02:00:00</td>\n",
       "      <td>463.09</td>\n",
       "      <td>470.00</td>\n",
       "      <td>451.20</td>\n",
       "      <td>462.39</td>\n",
       "      <td>411.539989</td>\n",
       "      <td>9.907766e+05</td>\n",
       "      <td>904763.906041</td>\n",
       "    </tr>\n",
       "    <tr>\n",
       "      <th>2</th>\n",
       "      <td>2020-11-13 02:00:00</td>\n",
       "      <td>462.48</td>\n",
       "      <td>478.01</td>\n",
       "      <td>457.12</td>\n",
       "      <td>476.43</td>\n",
       "      <td>415.100806</td>\n",
       "      <td>9.766651e+05</td>\n",
       "      <td>932635.317364</td>\n",
       "    </tr>\n",
       "    <tr>\n",
       "      <th>3</th>\n",
       "      <td>2020-11-14 02:00:00</td>\n",
       "      <td>476.42</td>\n",
       "      <td>477.47</td>\n",
       "      <td>452.00</td>\n",
       "      <td>460.89</td>\n",
       "      <td>416.605915</td>\n",
       "      <td>7.352528e+05</td>\n",
       "      <td>948618.607829</td>\n",
       "    </tr>\n",
       "    <tr>\n",
       "      <th>4</th>\n",
       "      <td>2020-11-15 02:00:00</td>\n",
       "      <td>460.90</td>\n",
       "      <td>462.89</td>\n",
       "      <td>440.19</td>\n",
       "      <td>448.08</td>\n",
       "      <td>417.443094</td>\n",
       "      <td>6.652176e+05</td>\n",
       "      <td>937122.352532</td>\n",
       "    </tr>\n",
       "  </tbody>\n",
       "</table>\n",
       "</div>"
      ],
      "text/plain": [
       "                 time    open    high     low   close        KAMA  \\\n",
       "0 2020-11-11 02:00:00  450.34  476.25  449.28  463.09  409.605256   \n",
       "1 2020-11-12 02:00:00  463.09  470.00  451.20  462.39  411.539989   \n",
       "2 2020-11-13 02:00:00  462.48  478.01  457.12  476.43  415.100806   \n",
       "3 2020-11-14 02:00:00  476.42  477.47  452.00  460.89  416.605915   \n",
       "4 2020-11-15 02:00:00  460.90  462.89  440.19  448.08  417.443094   \n",
       "\n",
       "         Volume      Volume MA  \n",
       "0  1.205783e+06  891616.690705  \n",
       "1  9.907766e+05  904763.906041  \n",
       "2  9.766651e+05  932635.317364  \n",
       "3  7.352528e+05  948618.607829  \n",
       "4  6.652176e+05  937122.352532  "
      ]
     },
     "execution_count": 4,
     "metadata": {},
     "output_type": "execute_result"
    }
   ],
   "source": [
    "df.head()"
   ]
  },
  {
   "cell_type": "code",
   "execution_count": 5,
   "id": "f4307af9",
   "metadata": {},
   "outputs": [],
   "source": [
    "from ta import add_all_ta_features"
   ]
  },
  {
   "cell_type": "code",
   "execution_count": 7,
   "id": "c04517b2",
   "metadata": {},
   "outputs": [
    {
     "name": "stderr",
     "output_type": "stream",
     "text": [
      "/Users/mert/opt/anaconda3/envs/pycaret/lib/python3.8/site-packages/ta/trend.py:780: RuntimeWarning: invalid value encountered in double_scalars\n",
      "  dip[idx] = 100 * (self._dip[idx] / value)\n",
      "/Users/mert/opt/anaconda3/envs/pycaret/lib/python3.8/site-packages/ta/trend.py:785: RuntimeWarning: invalid value encountered in double_scalars\n",
      "  din[idx] = 100 * (self._din[idx] / value)\n"
     ]
    }
   ],
   "source": [
    "df=add_all_ta_features(df,open='open',high='high',low='low',close='close',volume='Volume')"
   ]
  },
  {
   "cell_type": "code",
   "execution_count": 9,
   "id": "fb7d65f6",
   "metadata": {},
   "outputs": [
    {
     "data": {
      "text/plain": [
       "Index(['time', 'open', 'high', 'low', 'close', 'KAMA', 'Volume', 'Volume MA',\n",
       "       'volume_adi', 'volume_obv', 'volume_cmf', 'volume_fi', 'volume_em',\n",
       "       'volume_sma_em', 'volume_vpt', 'volume_vwap', 'volume_mfi',\n",
       "       'volume_nvi', 'volatility_bbm', 'volatility_bbh', 'volatility_bbl',\n",
       "       'volatility_bbw', 'volatility_bbp', 'volatility_bbhi',\n",
       "       'volatility_bbli', 'volatility_kcc', 'volatility_kch', 'volatility_kcl',\n",
       "       'volatility_kcw', 'volatility_kcp', 'volatility_kchi',\n",
       "       'volatility_kcli', 'volatility_dcl', 'volatility_dch', 'volatility_dcm',\n",
       "       'volatility_dcw', 'volatility_dcp', 'volatility_atr', 'volatility_ui',\n",
       "       'trend_macd', 'trend_macd_signal', 'trend_macd_diff', 'trend_sma_fast',\n",
       "       'trend_sma_slow', 'trend_ema_fast', 'trend_ema_slow',\n",
       "       'trend_vortex_ind_pos', 'trend_vortex_ind_neg', 'trend_vortex_ind_diff',\n",
       "       'trend_trix', 'trend_mass_index', 'trend_dpo', 'trend_kst',\n",
       "       'trend_kst_sig', 'trend_kst_diff', 'trend_ichimoku_conv',\n",
       "       'trend_ichimoku_base', 'trend_ichimoku_a', 'trend_ichimoku_b',\n",
       "       'trend_stc', 'trend_adx', 'trend_adx_pos', 'trend_adx_neg', 'trend_cci',\n",
       "       'trend_visual_ichimoku_a', 'trend_visual_ichimoku_b', 'trend_aroon_up',\n",
       "       'trend_aroon_down', 'trend_aroon_ind', 'trend_psar_up',\n",
       "       'trend_psar_down', 'trend_psar_up_indicator',\n",
       "       'trend_psar_down_indicator', 'momentum_rsi', 'momentum_stoch_rsi',\n",
       "       'momentum_stoch_rsi_k', 'momentum_stoch_rsi_d', 'momentum_tsi',\n",
       "       'momentum_uo', 'momentum_stoch', 'momentum_stoch_signal', 'momentum_wr',\n",
       "       'momentum_ao', 'momentum_roc', 'momentum_ppo', 'momentum_ppo_signal',\n",
       "       'momentum_ppo_hist', 'momentum_pvo', 'momentum_pvo_signal',\n",
       "       'momentum_pvo_hist', 'momentum_kama', 'others_dr', 'others_dlr',\n",
       "       'others_cr'],\n",
       "      dtype='object')"
      ]
     },
     "execution_count": 9,
     "metadata": {},
     "output_type": "execute_result"
    }
   ],
   "source": [
    "df.columns"
   ]
  },
  {
   "cell_type": "code",
   "execution_count": null,
   "id": "239b9c6d",
   "metadata": {},
   "outputs": [],
   "source": []
  }
 ],
 "metadata": {
  "kernelspec": {
   "display_name": "Python 3 (ipykernel)",
   "language": "python",
   "name": "python3"
  },
  "language_info": {
   "codemirror_mode": {
    "name": "ipython",
    "version": 3
   },
   "file_extension": ".py",
   "mimetype": "text/x-python",
   "name": "python",
   "nbconvert_exporter": "python",
   "pygments_lexer": "ipython3",
   "version": "3.8.13"
  }
 },
 "nbformat": 4,
 "nbformat_minor": 5
}
