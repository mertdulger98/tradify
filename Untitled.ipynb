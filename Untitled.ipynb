{
 "cells": [
  {
   "cell_type": "code",
   "execution_count": 1,
   "id": "e858641f",
   "metadata": {},
   "outputs": [],
   "source": [
    "import pandas as pd\n",
    "import numpy as np\n",
    "from backtesting_opt import *"
   ]
  },
  {
   "cell_type": "code",
   "execution_count": 2,
   "id": "6b6b0008",
   "metadata": {},
   "outputs": [
    {
     "name": "stdout",
     "output_type": "stream",
     "text": [
      "[*********************100%***********************]  1 of 1 completed\n",
      "[*********************100%***********************]  1 of 1 completed\n"
     ]
    }
   ],
   "source": [
    "df1 = getData([\"NVDA\", \"AAPL\"], start_date=\"2022-01-01\", end_date=\"2023-09-01\", timeframe='1h')\n",
    "md = fit_ols(df1)"
   ]
  },
  {
   "cell_type": "code",
   "execution_count": 3,
   "id": "7a30ca11",
   "metadata": {},
   "outputs": [
    {
     "name": "stdout",
     "output_type": "stream",
     "text": [
      "[*********************100%***********************]  1 of 1 completed\n",
      "[*********************100%***********************]  1 of 1 completed\n"
     ]
    }
   ],
   "source": [
    "df2 = getData([\"NVDA\", \"AAPL\"], start_date=\"2023-09-02\", end_date=\"2023-12-12\", timeframe='1h')\n"
   ]
  },
  {
   "cell_type": "code",
   "execution_count": null,
   "id": "251c8361",
   "metadata": {},
   "outputs": [],
   "source": [
    "# validation period ekleyelim"
   ]
  },
  {
   "cell_type": "code",
   "execution_count": 13,
   "id": "8ba39055",
   "metadata": {},
   "outputs": [
    {
     "name": "stderr",
     "output_type": "stream",
     "text": [
      "\u001b[32m[I 2023-12-18 10:17:51,969]\u001b[0m A new study created in memory with name: no-name-d66cef8f-b07f-4292-b033-52ba331f6bcf\u001b[0m\n",
      "\u001b[32m[I 2023-12-18 10:17:53,467]\u001b[0m Trial 0 finished with value: 1.0585889441516723 and parameters: {'z_ma': 14, 'kalman_ma': 10}. Best is trial 0 with value: 1.0585889441516723.\u001b[0m\n",
      "\u001b[32m[I 2023-12-18 10:17:54,963]\u001b[0m Trial 1 finished with value: 1.0008806167775484 and parameters: {'z_ma': 12, 'kalman_ma': 12}. Best is trial 0 with value: 1.0585889441516723.\u001b[0m\n",
      "\u001b[32m[I 2023-12-18 10:17:56,470]\u001b[0m Trial 2 finished with value: 1.0088925944255926 and parameters: {'z_ma': 10, 'kalman_ma': 10}. Best is trial 0 with value: 1.0585889441516723.\u001b[0m\n",
      "\u001b[32m[I 2023-12-18 10:17:57,973]\u001b[0m Trial 3 finished with value: 0.963375308941821 and parameters: {'z_ma': 9, 'kalman_ma': 8}. Best is trial 0 with value: 1.0585889441516723.\u001b[0m\n",
      "\u001b[32m[I 2023-12-18 10:17:59,521]\u001b[0m Trial 4 finished with value: 1.0095288653625096 and parameters: {'z_ma': 12, 'kalman_ma': 11}. Best is trial 0 with value: 1.0585889441516723.\u001b[0m\n",
      "\u001b[32m[I 2023-12-18 10:18:01,456]\u001b[0m Trial 5 finished with value: 1.0197013916470923 and parameters: {'z_ma': 13, 'kalman_ma': 7}. Best is trial 0 with value: 1.0585889441516723.\u001b[0m\n",
      "\u001b[32m[I 2023-12-18 10:18:03,446]\u001b[0m Trial 6 finished with value: 1.0197013916470923 and parameters: {'z_ma': 13, 'kalman_ma': 7}. Best is trial 0 with value: 1.0585889441516723.\u001b[0m\n",
      "\u001b[32m[I 2023-12-18 10:18:05,221]\u001b[0m Trial 7 finished with value: 1.0195367213855235 and parameters: {'z_ma': 11, 'kalman_ma': 11}. Best is trial 0 with value: 1.0585889441516723.\u001b[0m\n",
      "\u001b[32m[I 2023-12-18 10:18:06,840]\u001b[0m Trial 8 finished with value: 0.9856417271854563 and parameters: {'z_ma': 10, 'kalman_ma': 7}. Best is trial 0 with value: 1.0585889441516723.\u001b[0m\n",
      "\u001b[32m[I 2023-12-18 10:18:08,453]\u001b[0m Trial 9 finished with value: 0.979889382989533 and parameters: {'z_ma': 9, 'kalman_ma': 12}. Best is trial 0 with value: 1.0585889441516723.\u001b[0m\n",
      "\u001b[32m[I 2023-12-18 10:18:10,145]\u001b[0m Trial 10 finished with value: 0.9970617214043722 and parameters: {'z_ma': 7, 'kalman_ma': 14}. Best is trial 0 with value: 1.0585889441516723.\u001b[0m\n",
      "\u001b[32m[I 2023-12-18 10:18:11,607]\u001b[0m Trial 11 finished with value: 1.0587698137261126 and parameters: {'z_ma': 14, 'kalman_ma': 9}. Best is trial 11 with value: 1.0587698137261126.\u001b[0m\n",
      "\u001b[32m[I 2023-12-18 10:18:13,121]\u001b[0m Trial 12 finished with value: 1.0587698137261126 and parameters: {'z_ma': 14, 'kalman_ma': 9}. Best is trial 11 with value: 1.0587698137261126.\u001b[0m\n",
      "\u001b[32m[I 2023-12-18 10:18:14,720]\u001b[0m Trial 13 finished with value: 1.0587698137261126 and parameters: {'z_ma': 14, 'kalman_ma': 9}. Best is trial 11 with value: 1.0587698137261126.\u001b[0m\n",
      "\u001b[32m[I 2023-12-18 10:18:16,416]\u001b[0m Trial 14 finished with value: 1.0587698137261126 and parameters: {'z_ma': 14, 'kalman_ma': 9}. Best is trial 11 with value: 1.0587698137261126.\u001b[0m\n",
      "\u001b[32m[I 2023-12-18 10:18:18,165]\u001b[0m Trial 15 finished with value: 1.0360852170133856 and parameters: {'z_ma': 13, 'kalman_ma': 9}. Best is trial 11 with value: 1.0587698137261126.\u001b[0m\n",
      "\u001b[32m[I 2023-12-18 10:18:19,885]\u001b[0m Trial 16 finished with value: 1.015916800213314 and parameters: {'z_ma': 12, 'kalman_ma': 8}. Best is trial 11 with value: 1.0587698137261126.\u001b[0m\n",
      "\u001b[32m[I 2023-12-18 10:18:21,493]\u001b[0m Trial 17 finished with value: 0.9519266395866707 and parameters: {'z_ma': 7, 'kalman_ma': 8}. Best is trial 11 with value: 1.0587698137261126.\u001b[0m\n",
      "\u001b[32m[I 2023-12-18 10:18:23,013]\u001b[0m Trial 18 finished with value: 1.1138573884192744 and parameters: {'z_ma': 14, 'kalman_ma': 14}. Best is trial 18 with value: 1.1138573884192744.\u001b[0m\n",
      "\u001b[32m[I 2023-12-18 10:18:24,477]\u001b[0m Trial 19 finished with value: 0.9970388242790694 and parameters: {'z_ma': 11, 'kalman_ma': 14}. Best is trial 18 with value: 1.1138573884192744.\u001b[0m\n",
      "\u001b[32m[I 2023-12-18 10:18:25,970]\u001b[0m Trial 20 finished with value: 1.0436973930862274 and parameters: {'z_ma': 13, 'kalman_ma': 13}. Best is trial 18 with value: 1.1138573884192744.\u001b[0m\n",
      "\u001b[32m[I 2023-12-18 10:18:27,503]\u001b[0m Trial 21 finished with value: 1.0585889441516723 and parameters: {'z_ma': 14, 'kalman_ma': 10}. Best is trial 18 with value: 1.1138573884192744.\u001b[0m\n",
      "\u001b[32m[I 2023-12-18 10:18:29,147]\u001b[0m Trial 22 finished with value: 1.0587698137261126 and parameters: {'z_ma': 14, 'kalman_ma': 9}. Best is trial 18 with value: 1.1138573884192744.\u001b[0m\n",
      "\u001b[32m[I 2023-12-18 10:18:30,853]\u001b[0m Trial 23 finished with value: 1.0069854696027947 and parameters: {'z_ma': 13, 'kalman_ma': 12}. Best is trial 18 with value: 1.1138573884192744.\u001b[0m\n",
      "\u001b[32m[I 2023-12-18 10:18:33,113]\u001b[0m Trial 24 finished with value: 1.0110136794569866 and parameters: {'z_ma': 12, 'kalman_ma': 13}. Best is trial 18 with value: 1.1138573884192744.\u001b[0m\n",
      "\u001b[32m[I 2023-12-18 10:18:35,538]\u001b[0m Trial 25 finished with value: 1.0225583497280726 and parameters: {'z_ma': 14, 'kalman_ma': 11}. Best is trial 18 with value: 1.1138573884192744.\u001b[0m\n",
      "\u001b[32m[I 2023-12-18 10:18:37,537]\u001b[0m Trial 26 finished with value: 0.9875662157486944 and parameters: {'z_ma': 13, 'kalman_ma': 8}. Best is trial 18 with value: 1.1138573884192744.\u001b[0m\n",
      "\u001b[32m[I 2023-12-18 10:18:39,283]\u001b[0m Trial 27 finished with value: 1.0585889441516723 and parameters: {'z_ma': 14, 'kalman_ma': 10}. Best is trial 18 with value: 1.1138573884192744.\u001b[0m\n",
      "\u001b[32m[I 2023-12-18 10:18:40,946]\u001b[0m Trial 28 finished with value: 0.9937544398167171 and parameters: {'z_ma': 12, 'kalman_ma': 9}. Best is trial 18 with value: 1.1138573884192744.\u001b[0m\n",
      "\u001b[32m[I 2023-12-18 10:18:42,620]\u001b[0m Trial 29 finished with value: 1.0585889441516723 and parameters: {'z_ma': 14, 'kalman_ma': 10}. Best is trial 18 with value: 1.1138573884192744.\u001b[0m\n",
      "\u001b[32m[I 2023-12-18 10:18:44,153]\u001b[0m Trial 30 finished with value: 1.0436973930862274 and parameters: {'z_ma': 13, 'kalman_ma': 13}. Best is trial 18 with value: 1.1138573884192744.\u001b[0m\n",
      "\u001b[32m[I 2023-12-18 10:18:45,674]\u001b[0m Trial 31 finished with value: 1.0587698137261126 and parameters: {'z_ma': 14, 'kalman_ma': 9}. Best is trial 18 with value: 1.1138573884192744.\u001b[0m\n",
      "\u001b[32m[I 2023-12-18 10:18:47,275]\u001b[0m Trial 32 finished with value: 1.0601204369127815 and parameters: {'z_ma': 14, 'kalman_ma': 8}. Best is trial 18 with value: 1.1138573884192744.\u001b[0m\n",
      "\u001b[32m[I 2023-12-18 10:18:49,049]\u001b[0m Trial 33 finished with value: 1.0601204369127815 and parameters: {'z_ma': 14, 'kalman_ma': 8}. Best is trial 18 with value: 1.1138573884192744.\u001b[0m\n",
      "\u001b[32m[I 2023-12-18 10:18:50,739]\u001b[0m Trial 34 finished with value: 0.9875662157486944 and parameters: {'z_ma': 13, 'kalman_ma': 8}. Best is trial 18 with value: 1.1138573884192744.\u001b[0m\n",
      "\u001b[32m[I 2023-12-18 10:18:52,483]\u001b[0m Trial 35 finished with value: 0.9753343207744101 and parameters: {'z_ma': 8, 'kalman_ma': 7}. Best is trial 18 with value: 1.1138573884192744.\u001b[0m\n",
      "\u001b[32m[I 2023-12-18 10:18:54,069]\u001b[0m Trial 36 finished with value: 1.0006989858103696 and parameters: {'z_ma': 11, 'kalman_ma': 8}. Best is trial 18 with value: 1.1138573884192744.\u001b[0m\n",
      "\u001b[32m[I 2023-12-18 10:18:55,593]\u001b[0m Trial 37 finished with value: 1.015916800213314 and parameters: {'z_ma': 12, 'kalman_ma': 8}. Best is trial 18 with value: 1.1138573884192744.\u001b[0m\n",
      "\u001b[32m[I 2023-12-18 10:18:57,143]\u001b[0m Trial 38 finished with value: 1.0197013916470923 and parameters: {'z_ma': 13, 'kalman_ma': 7}. Best is trial 18 with value: 1.1138573884192744.\u001b[0m\n",
      "\u001b[32m[I 2023-12-18 10:18:58,705]\u001b[0m Trial 39 finished with value: 1.0225583497280726 and parameters: {'z_ma': 14, 'kalman_ma': 11}. Best is trial 18 with value: 1.1138573884192744.\u001b[0m\n",
      "\u001b[32m[I 2023-12-18 10:19:00,248]\u001b[0m Trial 40 finished with value: 0.978873988464299 and parameters: {'z_ma': 12, 'kalman_ma': 7}. Best is trial 18 with value: 1.1138573884192744.\u001b[0m\n",
      "\u001b[32m[I 2023-12-18 10:19:01,762]\u001b[0m Trial 41 finished with value: 1.0587698137261126 and parameters: {'z_ma': 14, 'kalman_ma': 9}. Best is trial 18 with value: 1.1138573884192744.\u001b[0m\n",
      "\u001b[32m[I 2023-12-18 10:19:03,293]\u001b[0m Trial 42 finished with value: 1.0585889441516723 and parameters: {'z_ma': 14, 'kalman_ma': 10}. Best is trial 18 with value: 1.1138573884192744.\u001b[0m\n",
      "\u001b[32m[I 2023-12-18 10:19:05,063]\u001b[0m Trial 43 finished with value: 0.9875662157486944 and parameters: {'z_ma': 13, 'kalman_ma': 8}. Best is trial 18 with value: 1.1138573884192744.\u001b[0m\n"
     ]
    },
    {
     "name": "stderr",
     "output_type": "stream",
     "text": [
      "\u001b[32m[I 2023-12-18 10:19:06,763]\u001b[0m Trial 44 finished with value: 1.0587698137261126 and parameters: {'z_ma': 14, 'kalman_ma': 9}. Best is trial 18 with value: 1.1138573884192744.\u001b[0m\n",
      "\u001b[32m[I 2023-12-18 10:19:08,520]\u001b[0m Trial 45 finished with value: 1.052829504724797 and parameters: {'z_ma': 13, 'kalman_ma': 10}. Best is trial 18 with value: 1.1138573884192744.\u001b[0m\n",
      "\u001b[32m[I 2023-12-18 10:19:10,182]\u001b[0m Trial 46 finished with value: 0.9481270552887607 and parameters: {'z_ma': 10, 'kalman_ma': 8}. Best is trial 18 with value: 1.1138573884192744.\u001b[0m\n",
      "\u001b[32m[I 2023-12-18 10:19:11,796]\u001b[0m Trial 47 finished with value: 1.041756327324884 and parameters: {'z_ma': 14, 'kalman_ma': 7}. Best is trial 18 with value: 1.1138573884192744.\u001b[0m\n",
      "\u001b[32m[I 2023-12-18 10:19:13,302]\u001b[0m Trial 48 finished with value: 0.979889382989533 and parameters: {'z_ma': 9, 'kalman_ma': 12}. Best is trial 18 with value: 1.1138573884192744.\u001b[0m\n",
      "\u001b[32m[I 2023-12-18 10:19:14,803]\u001b[0m Trial 49 finished with value: 1.0587698137261126 and parameters: {'z_ma': 14, 'kalman_ma': 9}. Best is trial 18 with value: 1.1138573884192744.\u001b[0m\n",
      "\u001b[32m[I 2023-12-18 10:19:16,306]\u001b[0m Trial 50 finished with value: 1.0360852170133856 and parameters: {'z_ma': 13, 'kalman_ma': 9}. Best is trial 18 with value: 1.1138573884192744.\u001b[0m\n",
      "\u001b[32m[I 2023-12-18 10:19:17,843]\u001b[0m Trial 51 finished with value: 1.0587698137261126 and parameters: {'z_ma': 14, 'kalman_ma': 9}. Best is trial 18 with value: 1.1138573884192744.\u001b[0m\n",
      "\u001b[32m[I 2023-12-18 10:19:19,728]\u001b[0m Trial 52 finished with value: 1.0601204369127815 and parameters: {'z_ma': 14, 'kalman_ma': 8}. Best is trial 18 with value: 1.1138573884192744.\u001b[0m\n",
      "\u001b[32m[I 2023-12-18 10:19:21,479]\u001b[0m Trial 53 finished with value: 1.0601204369127815 and parameters: {'z_ma': 14, 'kalman_ma': 8}. Best is trial 18 with value: 1.1138573884192744.\u001b[0m\n",
      "\u001b[32m[I 2023-12-18 10:19:23,214]\u001b[0m Trial 54 finished with value: 1.0601204369127815 and parameters: {'z_ma': 14, 'kalman_ma': 8}. Best is trial 18 with value: 1.1138573884192744.\u001b[0m\n",
      "\u001b[32m[I 2023-12-18 10:19:24,979]\u001b[0m Trial 55 finished with value: 0.9875662157486944 and parameters: {'z_ma': 13, 'kalman_ma': 8}. Best is trial 18 with value: 1.1138573884192744.\u001b[0m\n",
      "\u001b[32m[I 2023-12-18 10:19:26,553]\u001b[0m Trial 56 finished with value: 1.041756327324884 and parameters: {'z_ma': 14, 'kalman_ma': 7}. Best is trial 18 with value: 1.1138573884192744.\u001b[0m\n",
      "\u001b[32m[I 2023-12-18 10:19:28,093]\u001b[0m Trial 57 finished with value: 1.0601204369127815 and parameters: {'z_ma': 14, 'kalman_ma': 8}. Best is trial 18 with value: 1.1138573884192744.\u001b[0m\n",
      "\u001b[32m[I 2023-12-18 10:19:29,603]\u001b[0m Trial 58 finished with value: 1.0197013916470923 and parameters: {'z_ma': 13, 'kalman_ma': 7}. Best is trial 18 with value: 1.1138573884192744.\u001b[0m\n",
      "\u001b[32m[I 2023-12-18 10:19:31,119]\u001b[0m Trial 59 finished with value: 1.0601204369127815 and parameters: {'z_ma': 14, 'kalman_ma': 8}. Best is trial 18 with value: 1.1138573884192744.\u001b[0m\n",
      "\u001b[32m[I 2023-12-18 10:19:32,589]\u001b[0m Trial 60 finished with value: 1.0190540246067956 and parameters: {'z_ma': 13, 'kalman_ma': 14}. Best is trial 18 with value: 1.1138573884192744.\u001b[0m\n",
      "\u001b[32m[I 2023-12-18 10:19:34,173]\u001b[0m Trial 61 finished with value: 1.0601204369127815 and parameters: {'z_ma': 14, 'kalman_ma': 8}. Best is trial 18 with value: 1.1138573884192744.\u001b[0m\n",
      "\u001b[32m[I 2023-12-18 10:19:35,914]\u001b[0m Trial 62 finished with value: 1.0601204369127815 and parameters: {'z_ma': 14, 'kalman_ma': 8}. Best is trial 18 with value: 1.1138573884192744.\u001b[0m\n",
      "\u001b[32m[I 2023-12-18 10:19:37,693]\u001b[0m Trial 63 finished with value: 1.0601204369127815 and parameters: {'z_ma': 14, 'kalman_ma': 8}. Best is trial 18 with value: 1.1138573884192744.\u001b[0m\n",
      "\u001b[32m[I 2023-12-18 10:19:39,428]\u001b[0m Trial 64 finished with value: 1.041756327324884 and parameters: {'z_ma': 14, 'kalman_ma': 7}. Best is trial 18 with value: 1.1138573884192744.\u001b[0m\n",
      "\u001b[32m[I 2023-12-18 10:19:41,119]\u001b[0m Trial 65 finished with value: 0.9875662157486944 and parameters: {'z_ma': 13, 'kalman_ma': 8}. Best is trial 18 with value: 1.1138573884192744.\u001b[0m\n",
      "\u001b[32m[I 2023-12-18 10:19:42,697]\u001b[0m Trial 66 finished with value: 0.9530253875660217 and parameters: {'z_ma': 8, 'kalman_ma': 8}. Best is trial 18 with value: 1.1138573884192744.\u001b[0m\n",
      "\u001b[32m[I 2023-12-18 10:19:44,259]\u001b[0m Trial 67 finished with value: 1.041756327324884 and parameters: {'z_ma': 14, 'kalman_ma': 7}. Best is trial 18 with value: 1.1138573884192744.\u001b[0m\n",
      "\u001b[32m[I 2023-12-18 10:19:45,973]\u001b[0m Trial 68 finished with value: 1.0601204369127815 and parameters: {'z_ma': 14, 'kalman_ma': 8}. Best is trial 18 with value: 1.1138573884192744.\u001b[0m\n",
      "\u001b[32m[I 2023-12-18 10:19:47,587]\u001b[0m Trial 69 finished with value: 1.0436973930862274 and parameters: {'z_ma': 13, 'kalman_ma': 13}. Best is trial 18 with value: 1.1138573884192744.\u001b[0m\n",
      "\u001b[32m[I 2023-12-18 10:19:49,122]\u001b[0m Trial 70 finished with value: 1.0601204369127815 and parameters: {'z_ma': 14, 'kalman_ma': 8}. Best is trial 18 with value: 1.1138573884192744.\u001b[0m\n",
      "\u001b[32m[I 2023-12-18 10:19:50,866]\u001b[0m Trial 71 finished with value: 1.0601204369127815 and parameters: {'z_ma': 14, 'kalman_ma': 8}. Best is trial 18 with value: 1.1138573884192744.\u001b[0m\n",
      "\u001b[32m[I 2023-12-18 10:19:52,718]\u001b[0m Trial 72 finished with value: 1.0587698137261126 and parameters: {'z_ma': 14, 'kalman_ma': 9}. Best is trial 18 with value: 1.1138573884192744.\u001b[0m\n",
      "\u001b[32m[I 2023-12-18 10:19:54,483]\u001b[0m Trial 73 finished with value: 1.0601204369127815 and parameters: {'z_ma': 14, 'kalman_ma': 8}. Best is trial 18 with value: 1.1138573884192744.\u001b[0m\n",
      "\u001b[32m[I 2023-12-18 10:19:56,318]\u001b[0m Trial 74 finished with value: 1.0197013916470923 and parameters: {'z_ma': 13, 'kalman_ma': 7}. Best is trial 18 with value: 1.1138573884192744.\u001b[0m\n",
      "\u001b[32m[I 2023-12-18 10:19:57,887]\u001b[0m Trial 75 finished with value: 1.0522912957659145 and parameters: {'z_ma': 14, 'kalman_ma': 12}. Best is trial 18 with value: 1.1138573884192744.\u001b[0m\n",
      "\u001b[32m[I 2023-12-18 10:19:59,433]\u001b[0m Trial 76 finished with value: 1.0225583497280726 and parameters: {'z_ma': 14, 'kalman_ma': 11}. Best is trial 18 with value: 1.1138573884192744.\u001b[0m\n",
      "\u001b[32m[I 2023-12-18 10:20:01,114]\u001b[0m Trial 77 finished with value: 1.0601204369127815 and parameters: {'z_ma': 14, 'kalman_ma': 8}. Best is trial 18 with value: 1.1138573884192744.\u001b[0m\n",
      "\u001b[32m[I 2023-12-18 10:20:02,767]\u001b[0m Trial 78 finished with value: 1.0601204369127815 and parameters: {'z_ma': 14, 'kalman_ma': 8}. Best is trial 18 with value: 1.1138573884192744.\u001b[0m\n",
      "\u001b[32m[I 2023-12-18 10:20:04,362]\u001b[0m Trial 79 finished with value: 0.9937544398167171 and parameters: {'z_ma': 12, 'kalman_ma': 9}. Best is trial 18 with value: 1.1138573884192744.\u001b[0m\n",
      "\u001b[32m[I 2023-12-18 10:20:05,920]\u001b[0m Trial 80 finished with value: 0.9856417271854563 and parameters: {'z_ma': 10, 'kalman_ma': 7}. Best is trial 18 with value: 1.1138573884192744.\u001b[0m\n",
      "\u001b[32m[I 2023-12-18 10:20:07,745]\u001b[0m Trial 81 finished with value: 1.0601204369127815 and parameters: {'z_ma': 14, 'kalman_ma': 8}. Best is trial 18 with value: 1.1138573884192744.\u001b[0m\n",
      "\u001b[32m[I 2023-12-18 10:20:09,516]\u001b[0m Trial 82 finished with value: 1.0601204369127815 and parameters: {'z_ma': 14, 'kalman_ma': 8}. Best is trial 18 with value: 1.1138573884192744.\u001b[0m\n",
      "\u001b[32m[I 2023-12-18 10:20:11,294]\u001b[0m Trial 83 finished with value: 1.0601204369127815 and parameters: {'z_ma': 14, 'kalman_ma': 8}. Best is trial 18 with value: 1.1138573884192744.\u001b[0m\n",
      "\u001b[32m[I 2023-12-18 10:20:13,026]\u001b[0m Trial 84 finished with value: 1.0360852170133856 and parameters: {'z_ma': 13, 'kalman_ma': 9}. Best is trial 18 with value: 1.1138573884192744.\u001b[0m\n",
      "\u001b[32m[I 2023-12-18 10:20:14,664]\u001b[0m Trial 85 finished with value: 1.0601204369127815 and parameters: {'z_ma': 14, 'kalman_ma': 8}. Best is trial 18 with value: 1.1138573884192744.\u001b[0m\n",
      "\u001b[32m[I 2023-12-18 10:20:16,225]\u001b[0m Trial 86 finished with value: 0.9875662157486944 and parameters: {'z_ma': 13, 'kalman_ma': 8}. Best is trial 18 with value: 1.1138573884192744.\u001b[0m\n",
      "\u001b[32m[I 2023-12-18 10:20:17,825]\u001b[0m Trial 87 finished with value: 0.9992169082229818 and parameters: {'z_ma': 11, 'kalman_ma': 9}. Best is trial 18 with value: 1.1138573884192744.\u001b[0m\n",
      "\u001b[32m[I 2023-12-18 10:20:19,409]\u001b[0m Trial 88 finished with value: 1.0601204369127815 and parameters: {'z_ma': 14, 'kalman_ma': 8}. Best is trial 18 with value: 1.1138573884192744.\u001b[0m\n"
     ]
    },
    {
     "name": "stderr",
     "output_type": "stream",
     "text": [
      "\u001b[32m[I 2023-12-18 10:20:20,945]\u001b[0m Trial 89 finished with value: 1.041756327324884 and parameters: {'z_ma': 14, 'kalman_ma': 7}. Best is trial 18 with value: 1.1138573884192744.\u001b[0m\n",
      "\u001b[32m[I 2023-12-18 10:20:22,863]\u001b[0m Trial 90 finished with value: 1.0601204369127815 and parameters: {'z_ma': 14, 'kalman_ma': 8}. Best is trial 18 with value: 1.1138573884192744.\u001b[0m\n",
      "\u001b[32m[I 2023-12-18 10:20:24,845]\u001b[0m Trial 91 finished with value: 1.0601204369127815 and parameters: {'z_ma': 14, 'kalman_ma': 8}. Best is trial 18 with value: 1.1138573884192744.\u001b[0m\n",
      "\u001b[32m[I 2023-12-18 10:20:27,033]\u001b[0m Trial 92 finished with value: 1.0601204369127815 and parameters: {'z_ma': 14, 'kalman_ma': 8}. Best is trial 18 with value: 1.1138573884192744.\u001b[0m\n",
      "\u001b[32m[I 2023-12-18 10:20:29,182]\u001b[0m Trial 93 finished with value: 1.0601204369127815 and parameters: {'z_ma': 14, 'kalman_ma': 8}. Best is trial 18 with value: 1.1138573884192744.\u001b[0m\n",
      "\u001b[32m[I 2023-12-18 10:20:31,249]\u001b[0m Trial 94 finished with value: 1.0360852170133856 and parameters: {'z_ma': 13, 'kalman_ma': 9}. Best is trial 18 with value: 1.1138573884192744.\u001b[0m\n",
      "\u001b[32m[I 2023-12-18 10:20:33,505]\u001b[0m Trial 95 finished with value: 1.0601204369127815 and parameters: {'z_ma': 14, 'kalman_ma': 8}. Best is trial 18 with value: 1.1138573884192744.\u001b[0m\n",
      "\u001b[32m[I 2023-12-18 10:20:35,293]\u001b[0m Trial 96 finished with value: 1.041756327324884 and parameters: {'z_ma': 14, 'kalman_ma': 7}. Best is trial 18 with value: 1.1138573884192744.\u001b[0m\n",
      "\u001b[32m[I 2023-12-18 10:20:37,213]\u001b[0m Trial 97 finished with value: 1.0601204369127815 and parameters: {'z_ma': 14, 'kalman_ma': 8}. Best is trial 18 with value: 1.1138573884192744.\u001b[0m\n",
      "\u001b[32m[I 2023-12-18 10:20:38,953]\u001b[0m Trial 98 finished with value: 1.0190540246067956 and parameters: {'z_ma': 13, 'kalman_ma': 14}. Best is trial 18 with value: 1.1138573884192744.\u001b[0m\n",
      "\u001b[32m[I 2023-12-18 10:20:41,306]\u001b[0m Trial 99 finished with value: 1.0587698137261126 and parameters: {'z_ma': 14, 'kalman_ma': 9}. Best is trial 18 with value: 1.1138573884192744.\u001b[0m\n"
     ]
    }
   ],
   "source": [
    "sty = tune_parameters(df2,md)"
   ]
  },
  {
   "cell_type": "code",
   "execution_count": 15,
   "id": "61af9542",
   "metadata": {},
   "outputs": [
    {
     "data": {
      "text/plain": [
       "{'z_ma': 14, 'kalman_ma': 14}"
      ]
     },
     "execution_count": 15,
     "metadata": {},
     "output_type": "execute_result"
    }
   ],
   "source": [
    "sty.best_params"
   ]
  },
  {
   "cell_type": "code",
   "execution_count": 16,
   "id": "d62d84ea",
   "metadata": {},
   "outputs": [
    {
     "data": {
      "text/html": [
       "<div>\n",
       "<style scoped>\n",
       "    .dataframe tbody tr th:only-of-type {\n",
       "        vertical-align: middle;\n",
       "    }\n",
       "\n",
       "    .dataframe tbody tr th {\n",
       "        vertical-align: top;\n",
       "    }\n",
       "\n",
       "    .dataframe thead th {\n",
       "        text-align: right;\n",
       "    }\n",
       "</style>\n",
       "<table border=\"1\" class=\"dataframe\">\n",
       "  <thead>\n",
       "    <tr style=\"text-align: right;\">\n",
       "      <th></th>\n",
       "      <th>number</th>\n",
       "      <th>value</th>\n",
       "      <th>params_kalman_ma</th>\n",
       "      <th>params_z_ma</th>\n",
       "      <th>state</th>\n",
       "    </tr>\n",
       "  </thead>\n",
       "  <tbody>\n",
       "    <tr>\n",
       "      <th>46</th>\n",
       "      <td>46</td>\n",
       "      <td>0.948127</td>\n",
       "      <td>8</td>\n",
       "      <td>10</td>\n",
       "      <td>COMPLETE</td>\n",
       "    </tr>\n",
       "    <tr>\n",
       "      <th>17</th>\n",
       "      <td>17</td>\n",
       "      <td>0.951927</td>\n",
       "      <td>8</td>\n",
       "      <td>7</td>\n",
       "      <td>COMPLETE</td>\n",
       "    </tr>\n",
       "    <tr>\n",
       "      <th>66</th>\n",
       "      <td>66</td>\n",
       "      <td>0.953025</td>\n",
       "      <td>8</td>\n",
       "      <td>8</td>\n",
       "      <td>COMPLETE</td>\n",
       "    </tr>\n",
       "    <tr>\n",
       "      <th>3</th>\n",
       "      <td>3</td>\n",
       "      <td>0.963375</td>\n",
       "      <td>8</td>\n",
       "      <td>9</td>\n",
       "      <td>COMPLETE</td>\n",
       "    </tr>\n",
       "    <tr>\n",
       "      <th>35</th>\n",
       "      <td>35</td>\n",
       "      <td>0.975334</td>\n",
       "      <td>7</td>\n",
       "      <td>8</td>\n",
       "      <td>COMPLETE</td>\n",
       "    </tr>\n",
       "    <tr>\n",
       "      <th>...</th>\n",
       "      <td>...</td>\n",
       "      <td>...</td>\n",
       "      <td>...</td>\n",
       "      <td>...</td>\n",
       "      <td>...</td>\n",
       "    </tr>\n",
       "    <tr>\n",
       "      <th>52</th>\n",
       "      <td>52</td>\n",
       "      <td>1.060120</td>\n",
       "      <td>8</td>\n",
       "      <td>14</td>\n",
       "      <td>COMPLETE</td>\n",
       "    </tr>\n",
       "    <tr>\n",
       "      <th>73</th>\n",
       "      <td>73</td>\n",
       "      <td>1.060120</td>\n",
       "      <td>8</td>\n",
       "      <td>14</td>\n",
       "      <td>COMPLETE</td>\n",
       "    </tr>\n",
       "    <tr>\n",
       "      <th>53</th>\n",
       "      <td>53</td>\n",
       "      <td>1.060120</td>\n",
       "      <td>8</td>\n",
       "      <td>14</td>\n",
       "      <td>COMPLETE</td>\n",
       "    </tr>\n",
       "    <tr>\n",
       "      <th>62</th>\n",
       "      <td>62</td>\n",
       "      <td>1.060120</td>\n",
       "      <td>8</td>\n",
       "      <td>14</td>\n",
       "      <td>COMPLETE</td>\n",
       "    </tr>\n",
       "    <tr>\n",
       "      <th>18</th>\n",
       "      <td>18</td>\n",
       "      <td>1.113857</td>\n",
       "      <td>14</td>\n",
       "      <td>14</td>\n",
       "      <td>COMPLETE</td>\n",
       "    </tr>\n",
       "  </tbody>\n",
       "</table>\n",
       "<p>100 rows × 5 columns</p>\n",
       "</div>"
      ],
      "text/plain": [
       "    number     value  params_kalman_ma  params_z_ma     state\n",
       "46      46  0.948127                 8           10  COMPLETE\n",
       "17      17  0.951927                 8            7  COMPLETE\n",
       "66      66  0.953025                 8            8  COMPLETE\n",
       "3        3  0.963375                 8            9  COMPLETE\n",
       "35      35  0.975334                 7            8  COMPLETE\n",
       "..     ...       ...               ...          ...       ...\n",
       "52      52  1.060120                 8           14  COMPLETE\n",
       "73      73  1.060120                 8           14  COMPLETE\n",
       "53      53  1.060120                 8           14  COMPLETE\n",
       "62      62  1.060120                 8           14  COMPLETE\n",
       "18      18  1.113857                14           14  COMPLETE\n",
       "\n",
       "[100 rows x 5 columns]"
      ]
     },
     "execution_count": 16,
     "metadata": {},
     "output_type": "execute_result"
    }
   ],
   "source": [
    "sty.trials_dataframe()[['number','value','params_kalman_ma','params_z_ma','state']].sort_values(by=['value'])"
   ]
  },
  {
   "cell_type": "code",
   "execution_count": 9,
   "id": "a08bd9a3",
   "metadata": {},
   "outputs": [
    {
     "data": {
      "text/plain": [
       "<AxesSubplot:xlabel='Datetime'>"
      ]
     },
     "execution_count": 9,
     "metadata": {},
     "output_type": "execute_result"
    },
    {
     "data": {
      "image/png": "[encoded data removed]",
      "text/plain": [
       "<Figure size 432x288 with 1 Axes>"
      ]
     },
     "metadata": {
      "needs_background": "light"
     },
     "output_type": "display_data"
    }
   ],
   "source": [
    "bt_ma(df2,14,14,md).set_index(df2.index.name).iloc[:, -3:].plot()"
   ]
  },
  {
   "cell_type": "code",
   "execution_count": null,
   "id": "80192b00",
   "metadata": {},
   "outputs": [],
   "source": [
    "df2"
   ]
  },
  {
   "cell_type": "code",
   "execution_count": null,
   "id": "a4ae68a2",
   "metadata": {},
   "outputs": [],
   "source": [
    "bt_ma(df2,14,14,md).to_excel(\"df.xlsx\")"
   ]
  },
  {
   "cell_type": "code",
   "execution_count": null,
   "id": "4173d4e6",
   "metadata": {},
   "outputs": [],
   "source": [
    "df3 = getData([\"NVDA\", \"AAPL\"], start_date=\"2023-10-02\", end_date=\"2023-12-12\", timeframe='1h')\n",
    "bt_ma(df3,14,14,md).to_excel(\"df2.xlsx\")"
   ]
  },
  {
   "cell_type": "code",
   "execution_count": null,
   "id": "fc46b387",
   "metadata": {},
   "outputs": [],
   "source": [
    "(datetime.datetime.today()-datetime.timedelta(days=3)).strftime(\"%Y-%m-%d\")"
   ]
  },
  {
   "cell_type": "code",
   "execution_count": null,
   "id": "46c1d2b6",
   "metadata": {},
   "outputs": [],
   "source": [
    "lts=bt_ma(df3,14,14,md).dropna(subset=['EntrySignal']).iloc[-1]"
   ]
  },
  {
   "cell_type": "code",
   "execution_count": null,
   "id": "528b310f",
   "metadata": {},
   "outputs": [],
   "source": [
    "lts"
   ]
  },
  {
   "cell_type": "code",
   "execution_count": null,
   "id": "8ff60794",
   "metadata": {},
   "outputs": [],
   "source": [
    "# naive halini de ekle, thresholdu tune et.\n",
    "\n",
    "# linear regression katsaılıarımız cok degilsiyor mu, 120 gün kaydıra kaydıra yapıp katsayılarına baksak, \n",
    "# o windowlarda ne kadar değişiyor\n",
    "\n",
    "# loglayacak bir altyapı kurgula\n",
    "# pair ismi text dosyası - içinde detaylar olur, moving averagelar ne durumda kesişti mi kesişmedi mi. csvye yazıp append ede ede gidelim.\n"
   ]
  }
 ],
 "metadata": {
  "kernelspec": {
   "display_name": "Python 3 (ipykernel)",
   "language": "python",
   "name": "python3"
  },
  "language_info": {
   "codemirror_mode": {
    "name": "ipython",
    "version": 3
   },
   "file_extension": ".py",
   "mimetype": "text/x-python",
   "name": "python",
   "nbconvert_exporter": "python",
   "pygments_lexer": "ipython3",
   "version": "3.9.12"
  }
 },
 "nbformat": 4,
 "nbformat_minor": 5
}
